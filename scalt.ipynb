{
 "cells": [
  {
   "cell_type": "code",
   "execution_count": 1,
   "id": "0f01e9b9",
   "metadata": {},
   "outputs": [
    {
     "name": "stderr",
     "output_type": "stream",
     "text": [
      "C:\\Users\\l5\\anaconda3\\lib\\site-packages\\IPython\\core\\interactiveshell.py:3165: DtypeWarning: Columns (25) have mixed types.Specify dtype option on import or set low_memory=False.\n",
      "  has_raised = await self.run_ast_nodes(code_ast.body, cell_name,\n"
     ]
    }
   ],
   "source": [
    "import pandas as pd\n",
    "\n",
    "df = pd.read_csv(\"planilhas/dados/base_jogadores.csv\", sep=\";\")"
   ]
  },
  {
   "cell_type": "markdown",
   "id": "85374bff",
   "metadata": {},
   "source": [
    "### Valor euro 40% > do que a taxa de transferência"
   ]
  },
  {
   "cell_type": "code",
   "execution_count": 33,
   "id": "4d1b71ec",
   "metadata": {
    "scrolled": false
   },
   "outputs": [],
   "source": [
    "temp = df.loc[(df.valor_euro > (df.passe_euro - df.passe_euro*0.40)) & (df.emprestimo == False) & (df.idade < 27) & (df.overall > 70)]\n",
    "temp = temp.sort_values(by=\"potencial\", ascending=False)\n",
    "header = ['nome', 'idade', 'overall', 'potencial', 'valor_euro', 'passe_euro', 'clube']\n",
    "temp.to_csv('planilhas/analises/bons_negocios.csv', columns=header, sep=';', encoding='utf-8-sig')"
   ]
  },
  {
   "cell_type": "code",
   "execution_count": null,
   "id": "0c5d94cd",
   "metadata": {},
   "outputs": [],
   "source": []
  }
 ],
 "metadata": {
  "kernelspec": {
   "display_name": "Python 3",
   "language": "python",
   "name": "python3"
  },
  "language_info": {
   "codemirror_mode": {
    "name": "ipython",
    "version": 3
   },
   "file_extension": ".py",
   "mimetype": "text/x-python",
   "name": "python",
   "nbconvert_exporter": "python",
   "pygments_lexer": "ipython3",
   "version": "3.8.8"
  }
 },
 "nbformat": 4,
 "nbformat_minor": 5
}
