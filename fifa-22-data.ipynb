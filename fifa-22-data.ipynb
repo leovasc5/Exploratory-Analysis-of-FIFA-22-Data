{
 "cells": [
  {
   "cell_type": "code",
   "execution_count": 1,
   "id": "ae2d270b",
   "metadata": {},
   "outputs": [
    {
     "name": "stderr",
     "output_type": "stream",
     "text": [
      "C:\\Users\\l5\\anaconda3\\lib\\site-packages\\IPython\\core\\interactiveshell.py:3165: DtypeWarning: Columns (25) have mixed types.Specify dtype option on import or set low_memory=False.\n",
      "  has_raised = await self.run_ast_nodes(code_ast.body, cell_name,\n"
     ]
    }
   ],
   "source": [
    "import pandas as pd\n",
    "\n",
    "df = pd.read_csv(\"players_fifa22.csv\")"
   ]
  },
  {
   "cell_type": "code",
   "execution_count": 3,
   "id": "9d95cd26",
   "metadata": {},
   "outputs": [
    {
     "data": {
      "text/plain": [
       "Index(['ID', 'Name', 'FullName', 'Age', 'Height', 'Weight', 'PhotoUrl',\n",
       "       'Nationality', 'Overall', 'Potential', 'Growth', 'TotalStats',\n",
       "       'BaseStats', 'Positions', 'BestPosition', 'Club', 'ValueEUR', 'WageEUR',\n",
       "       'ReleaseClause', 'ClubPosition', 'ContractUntil', 'ClubNumber',\n",
       "       'ClubJoined', 'OnLoad', 'NationalTeam', 'NationalPosition',\n",
       "       'NationalNumber', 'PreferredFoot', 'IntReputation', 'WeakFoot',\n",
       "       'SkillMoves', 'AttackingWorkRate', 'DefensiveWorkRate', 'PaceTotal',\n",
       "       'ShootingTotal', 'PassingTotal', 'DribblingTotal', 'DefendingTotal',\n",
       "       'PhysicalityTotal', 'Crossing', 'Finishing', 'HeadingAccuracy',\n",
       "       'ShortPassing', 'Volleys', 'Dribbling', 'Curve', 'FKAccuracy',\n",
       "       'LongPassing', 'BallControl', 'Acceleration', 'SprintSpeed', 'Agility',\n",
       "       'Reactions', 'Balance', 'ShotPower', 'Jumping', 'Stamina', 'Strength',\n",
       "       'LongShots', 'Aggression', 'Interceptions', 'Positioning', 'Vision',\n",
       "       'Penalties', 'Composure', 'Marking', 'StandingTackle', 'SlidingTackle',\n",
       "       'GKDiving', 'GKHandling', 'GKKicking', 'GKPositioning', 'GKReflexes',\n",
       "       'STRating', 'LWRating', 'LFRating', 'CFRating', 'RFRating', 'RWRating',\n",
       "       'CAMRating', 'LMRating', 'CMRating', 'RMRating', 'LWBRating',\n",
       "       'CDMRating', 'RWBRating', 'LBRating', 'CBRating', 'RBRating',\n",
       "       'GKRating'],\n",
       "      dtype='object')"
      ]
     },
     "execution_count": 3,
     "metadata": {},
     "output_type": "execute_result"
    }
   ],
   "source": [
    "df.columns"
   ]
  },
  {
   "cell_type": "code",
   "execution_count": 8,
   "id": "5e9cf18f",
   "metadata": {},
   "outputs": [
    {
     "data": {
      "text/plain": [
       "90"
      ]
     },
     "execution_count": 8,
     "metadata": {},
     "output_type": "execute_result"
    }
   ],
   "source": [
    "len(df.columns)"
   ]
  },
  {
   "cell_type": "code",
   "execution_count": null,
   "id": "0f3cd139",
   "metadata": {},
   "outputs": [],
   "source": [
    "df.columns = ['ID', 'Nome', 'Nome Completo', 'Idade', 'Peso', 'PhotoURL', 'Nacionalidade', 'OverAll', 'Potencial', 'Crescimento', 'TotalStats', 'BaseStats', 'Clube', 'Valor Euro', 'Salário Euro', 'Passe Euro', 'Posição no Clube', 'Fim do Contrato', 'Número da Camisa', 'Entrou no Clube', 'Empréstimo', 'Seleção', 'Posição na Seleção', 'Pé', 'Apagar']"
   ]
  }
 ],
 "metadata": {
  "kernelspec": {
   "display_name": "Python 3",
   "language": "python",
   "name": "python3"
  },
  "language_info": {
   "codemirror_mode": {
    "name": "ipython",
    "version": 3
   },
   "file_extension": ".py",
   "mimetype": "text/x-python",
   "name": "python",
   "nbconvert_exporter": "python",
   "pygments_lexer": "ipython3",
   "version": "3.8.8"
  }
 },
 "nbformat": 4,
 "nbformat_minor": 5
}
